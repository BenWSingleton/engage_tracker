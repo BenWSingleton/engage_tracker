{
 "cells": [
  {
   "cell_type": "code",
   "execution_count": 1,
   "metadata": {},
   "outputs": [],
   "source": [
    "from bs4 import BeautifulSoup\n",
    "import requests\n",
    "import sqlite3\n",
    "import tracker"
   ]
  },
  {
   "cell_type": "code",
   "execution_count": 3,
   "metadata": {},
   "outputs": [],
   "source": [
    "df = tracker.get_current_dates()"
   ]
  },
  {
   "cell_type": "code",
   "execution_count": 4,
   "metadata": {},
   "outputs": [
    {
     "data": {
      "text/html": [
       "<div>\n",
       "<style scoped>\n",
       "    .dataframe tbody tr th:only-of-type {\n",
       "        vertical-align: middle;\n",
       "    }\n",
       "\n",
       "    .dataframe tbody tr th {\n",
       "        vertical-align: top;\n",
       "    }\n",
       "\n",
       "    .dataframe thead th {\n",
       "        text-align: right;\n",
       "    }\n",
       "</style>\n",
       "<table border=\"1\" class=\"dataframe\">\n",
       "  <thead>\n",
       "    <tr style=\"text-align: right;\">\n",
       "      <th></th>\n",
       "      <th>project_name</th>\n",
       "      <th>date</th>\n",
       "      <th>link</th>\n",
       "    </tr>\n",
       "  </thead>\n",
       "  <tbody>\n",
       "    <tr>\n",
       "      <th>0</th>\n",
       "      <td>Updating and Adopting the Hill District Master...</td>\n",
       "      <td>05 Sep, 2024</td>\n",
       "      <td>https://engage.pittsburghpa.gov/ghdmp</td>\n",
       "    </tr>\n",
       "    <tr>\n",
       "      <th>1</th>\n",
       "      <td>Fort Pitt Park Master Plan</td>\n",
       "      <td>26 Jul, 2022</td>\n",
       "      <td>https://engage.pittsburghpa.gov/fort-pitt-park</td>\n",
       "    </tr>\n",
       "    <tr>\n",
       "      <th>2</th>\n",
       "      <td>Westinghouse Park Plan</td>\n",
       "      <td>26 Mar, 2024</td>\n",
       "      <td>https://engage.pittsburghpa.gov/westinghouse-park</td>\n",
       "    </tr>\n",
       "    <tr>\n",
       "      <th>3</th>\n",
       "      <td>Liberty Avenue HSIP</td>\n",
       "      <td>02 May, 2024</td>\n",
       "      <td>https://engage.pittsburghpa.gov/liberty-avenue...</td>\n",
       "    </tr>\n",
       "    <tr>\n",
       "      <th>4</th>\n",
       "      <td>City of the Future</td>\n",
       "      <td>18 Oct, 2023</td>\n",
       "      <td>https://engage.pittsburghpa.gov/city-future</td>\n",
       "    </tr>\n",
       "    <tr>\n",
       "      <th>...</th>\n",
       "      <td>...</td>\n",
       "      <td>...</td>\n",
       "      <td>...</td>\n",
       "    </tr>\n",
       "    <tr>\n",
       "      <th>184</th>\n",
       "      <td>Safe Routes to School</td>\n",
       "      <td>13 Sep, 2024</td>\n",
       "      <td>https://engage.pittsburghpa.gov/srts</td>\n",
       "    </tr>\n",
       "    <tr>\n",
       "      <th>185</th>\n",
       "      <td>Marmaduke Playground</td>\n",
       "      <td>06 Sep, 2024</td>\n",
       "      <td>https://engage.pittsburghpa.gov/marmaduke-play...</td>\n",
       "    </tr>\n",
       "    <tr>\n",
       "      <th>186</th>\n",
       "      <td>Chadwick Playground</td>\n",
       "      <td>06 Sep, 2024</td>\n",
       "      <td>https://engage.pittsburghpa.gov/chadwick-playg...</td>\n",
       "    </tr>\n",
       "    <tr>\n",
       "      <th>187</th>\n",
       "      <td>My Brother's Keeper</td>\n",
       "      <td>11 Sep, 2024</td>\n",
       "      <td>https://engage.pittsburghpa.gov/my-brothers-ke...</td>\n",
       "    </tr>\n",
       "    <tr>\n",
       "      <th>188</th>\n",
       "      <td>¿Le interesaría participar como voluntario de ...</td>\n",
       "      <td>08 Mar, 2023</td>\n",
       "      <td>https://engage.pittsburghpa.gov/le-interesaria...</td>\n",
       "    </tr>\n",
       "  </tbody>\n",
       "</table>\n",
       "<p>189 rows × 3 columns</p>\n",
       "</div>"
      ],
      "text/plain": [
       "                                          project_name          date  \\\n",
       "0    Updating and Adopting the Hill District Master...  05 Sep, 2024   \n",
       "1                           Fort Pitt Park Master Plan  26 Jul, 2022   \n",
       "2                               Westinghouse Park Plan  26 Mar, 2024   \n",
       "3                                  Liberty Avenue HSIP  02 May, 2024   \n",
       "4                                   City of the Future  18 Oct, 2023   \n",
       "..                                                 ...           ...   \n",
       "184                              Safe Routes to School  13 Sep, 2024   \n",
       "185                               Marmaduke Playground  06 Sep, 2024   \n",
       "186                                Chadwick Playground  06 Sep, 2024   \n",
       "187                                My Brother's Keeper  11 Sep, 2024   \n",
       "188  ¿Le interesaría participar como voluntario de ...  08 Mar, 2023   \n",
       "\n",
       "                                                  link  \n",
       "0                https://engage.pittsburghpa.gov/ghdmp  \n",
       "1       https://engage.pittsburghpa.gov/fort-pitt-park  \n",
       "2    https://engage.pittsburghpa.gov/westinghouse-park  \n",
       "3    https://engage.pittsburghpa.gov/liberty-avenue...  \n",
       "4          https://engage.pittsburghpa.gov/city-future  \n",
       "..                                                 ...  \n",
       "184               https://engage.pittsburghpa.gov/srts  \n",
       "185  https://engage.pittsburghpa.gov/marmaduke-play...  \n",
       "186  https://engage.pittsburghpa.gov/chadwick-playg...  \n",
       "187  https://engage.pittsburghpa.gov/my-brothers-ke...  \n",
       "188  https://engage.pittsburghpa.gov/le-interesaria...  \n",
       "\n",
       "[189 rows x 3 columns]"
      ]
     },
     "execution_count": 4,
     "metadata": {},
     "output_type": "execute_result"
    }
   ],
   "source": [
    "df"
   ]
  },
  {
   "cell_type": "code",
   "execution_count": 5,
   "metadata": {},
   "outputs": [],
   "source": [
    "for index, row in df.iterrows():\n",
    "    tracker.insert_new_project(row['project_name'], row['date'], 'city')"
   ]
  },
  {
   "cell_type": "code",
   "execution_count": 2,
   "metadata": {},
   "outputs": [
    {
     "name": "stdout",
     "output_type": "stream",
     "text": [
      "Tracker table successfully purged\n"
     ]
    },
    {
     "data": {
      "text/plain": [
       "True"
      ]
     },
     "execution_count": 2,
     "metadata": {},
     "output_type": "execute_result"
    }
   ],
   "source": [
    "tracker.purge_db()"
   ]
  },
  {
   "cell_type": "code",
   "execution_count": null,
   "metadata": {},
   "outputs": [],
   "source": []
  }
 ],
 "metadata": {
  "kernelspec": {
   "display_name": ".venv",
   "language": "python",
   "name": "python3"
  },
  "language_info": {
   "codemirror_mode": {
    "name": "ipython",
    "version": 3
   },
   "file_extension": ".py",
   "mimetype": "text/x-python",
   "name": "python",
   "nbconvert_exporter": "python",
   "pygments_lexer": "ipython3",
   "version": "3.11.0"
  }
 },
 "nbformat": 4,
 "nbformat_minor": 2
}
