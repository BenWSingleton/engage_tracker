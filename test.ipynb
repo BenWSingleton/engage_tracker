{
 "cells": [
  {
   "cell_type": "code",
   "execution_count": 1,
   "metadata": {},
   "outputs": [],
   "source": [
    "from bs4 import BeautifulSoup\n",
    "import requests\n",
    "import sqlite3\n",
    "import backend\n",
    "import pandas as pd\n",
    "import os\n",
    "from dotenv import load_dotenv\n",
    "from datetime import date"
   ]
  },
  {
   "cell_type": "code",
   "execution_count": 2,
   "metadata": {},
   "outputs": [],
   "source": [
    "table = backend.get_updates()"
   ]
  },
  {
   "cell_type": "code",
   "execution_count": 3,
   "metadata": {},
   "outputs": [
    {
     "data": {
      "text/plain": [
       "'<table border=\"1\" class=\"dataframe\">\\n  <thead>\\n    <tr style=\"text-align: right;\">\\n      <th></th>\\n      <th>project_name</th>\\n      <th>last_updated</th>\\n      <th>link</th>\\n    </tr>\\n  </thead>\\n  <tbody>\\n    <tr>\\n      <th>0</th>\\n      <td>Updating and Adopting the Hill District Master Plan</td>\\n      <td>01 Oct, 2024</td>\\n      <td><a href=\"https://engage.pittsburghpa.gov/ghdmp\" target=\"_blank\">https://engage.pittsburghpa.gov/ghdmp</a></td>\\n    </tr>\\n    <tr>\\n      <th>7</th>\\n      <td>The Oakland Plan</td>\\n      <td>07 Oct, 2024</td>\\n      <td><a href=\"https://engage.pittsburghpa.gov/oakland\" target=\"_blank\">https://engage.pittsburghpa.gov/oakland</a></td>\\n    </tr>\\n    <tr>\\n      <th>8</th>\\n      <td>Neighborhood Traffic Calming Program</td>\\n      <td>04 Oct, 2024</td>\\n      <td><a href=\"https://engage.pittsburghpa.gov/neighborhood-traffic-calming\" target=\"_blank\">https://engage.pittsburghpa.gov/neighborhood-traffic-calming</a></td>\\n    </tr>\\n    <tr>\\n      <th>16</th>\\n      <td>Penn Avenue Phase II</td>\\n      <td>20 Jun, 2023</td>\\n      <td><a href=\"https://engage.pittsburghpa.gov/penn-avenue-phase-2\" target=\"_blank\">https://engage.pittsburghpa.gov/penn-avenue-phase-2</a></td>\\n    </tr>\\n    <tr>\\n      <th>19</th>\\n      <td>Traffic Signal Projects</td>\\n      <td>08 Oct, 2024</td>\\n      <td><a href=\"https://engage.pittsburghpa.gov/traffic-signal-projects\" target=\"_blank\">https://engage.pittsburghpa.gov/traffic-signal-projects</a></td>\\n    </tr>\\n    <tr>\\n      <th>26</th>\\n      <td>Sylvan Avenue Trail</td>\\n      <td>30 Sep, 2024</td>\\n      <td><a href=\"https://engage.pittsburghpa.gov/sylvan-avenue-trail\" target=\"_blank\">https://engage.pittsburghpa.gov/sylvan-avenue-trail</a></td>\\n    </tr>\\n    <tr>\\n      <th>28</th>\\n      <td>Baxter Park Improvement Plan</td>\\n      <td>18 Sep, 2024</td>\\n      <td><a href=\"https://engage.pittsburghpa.gov/baxter-park-vision-plan\" target=\"_blank\">https://engage.pittsburghpa.gov/baxter-park-vision-plan</a></td>\\n    </tr>\\n    <tr>\\n      <th>33</th>\\n      <td>Critical Sidewalk Gaps Program</td>\\n      <td>03 Oct, 2024</td>\\n      <td><a href=\"https://engage.pittsburghpa.gov/critical-sidewalk-gaps-program\" target=\"_blank\">https://engage.pittsburghpa.gov/critical-sidewalk-gaps-program</a></td>\\n    </tr>\\n    <tr>\\n      <th>43</th>\\n      <td>Arsenal Park</td>\\n      <td>25 Apr, 2024</td>\\n      <td><a href=\"https://engage.pittsburghpa.gov/arsenal\" target=\"_blank\">https://engage.pittsburghpa.gov/arsenal</a></td>\\n    </tr>\\n    <tr>\\n      <th>44</th>\\n      <td>Christopher Columbus Statue</td>\\n      <td>22 Apr, 2024</td>\\n      <td><a href=\"https://engage.pittsburghpa.gov/christopher-columbus\" target=\"_blank\">https://engage.pittsburghpa.gov/christopher-columbus</a></td>\\n    </tr>\\n    <tr>\\n      <th>45</th>\\n      <td>Chartiers Playground</td>\\n      <td>16 Sep, 2024</td>\\n      <td><a href=\"https://engage.pittsburghpa.gov/chartiers\" target=\"_blank\">https://engage.pittsburghpa.gov/chartiers</a></td>\\n    </tr>\\n    <tr>\\n      <th>48</th>\\n      <td>South Side Park Public Art</td>\\n      <td>22 Apr, 2024</td>\\n      <td><a href=\"https://engage.pittsburghpa.gov/south-side-park-public-art\" target=\"_blank\">https://engage.pittsburghpa.gov/south-side-park-public-art</a></td>\\n    </tr>\\n    <tr>\\n      <th>50</th>\\n      <td>Art In Parks</td>\\n      <td>10 Sep, 2024</td>\\n      <td><a href=\"https://engage.pittsburghpa.gov/art-parks\" target=\"_blank\">https://engage.pittsburghpa.gov/art-parks</a></td>\\n    </tr>\\n    <tr>\\n      <th>52</th>\\n      <td>Cantini Mosaic Reconceptualization Project</td>\\n      <td>25 Apr, 2024</td>\\n      <td><a href=\"https://engage.pittsburghpa.gov/cantini-mosaic\" target=\"_blank\">https://engage.pittsburghpa.gov/cantini-mosaic</a></td>\\n    </tr>\\n    <tr>\\n      <th>53</th>\\n      <td>Homewood Park Improvement Project</td>\\n      <td>22 Jul, 2024</td>\\n      <td><a href=\"https://engage.pittsburghpa.gov/homewood\" target=\"_blank\">https://engage.pittsburghpa.gov/homewood</a></td>\\n    </tr>\\n    <tr>\\n      <th>67</th>\\n      <td>Davis Avenue Bridge</td>\\n      <td>23 Aug, 2024</td>\\n      <td><a href=\"https://engage.pittsburghpa.gov/davis-avenue-bridge\" target=\"_blank\">https://engage.pittsburghpa.gov/davis-avenue-bridge</a></td>\\n    </tr>\\n    <tr>\\n      <th>68</th>\\n      <td>Charles Anderson Bridge Rehabilitation Project</td>\\n      <td>24 Sep, 2024</td>\\n      <td><a href=\"https://engage.pittsburghpa.gov/charles-anderson-bridge\" target=\"_blank\">https://engage.pittsburghpa.gov/charles-anderson-bridge</a></td>\\n    </tr>\\n    <tr>\\n      <th>84</th>\\n      <td>Emerald View Phase I Trails & Trailheads</td>\\n      <td>26 Apr, 2023</td>\\n      <td><a href=\"https://engage.pittsburghpa.gov/emerald-view\" target=\"_blank\">https://engage.pittsburghpa.gov/emerald-view</a></td>\\n    </tr>\\n    <tr>\\n      <th>94</th>\\n      <td>Moore Park Pool Building Renovations</td>\\n      <td>04 Nov, 2022</td>\\n      <td><a href=\"https://engage.pittsburghpa.gov/moore-park-pool-building-renovations\" target=\"_blank\">https://engage.pittsburghpa.gov/moore-park-pool-building-renovations</a></td>\\n    </tr>\\n    <tr>\\n      <th>100</th>\\n      <td>City Collection Equity Audit</td>\\n      <td>22 Apr, 2024</td>\\n      <td><a href=\"https://engage.pittsburghpa.gov/collection-audit\" target=\"_blank\">https://engage.pittsburghpa.gov/collection-audit</a></td>\\n    </tr>\\n    <tr>\\n      <th>104</th>\\n      <td>Freedom Corner Renovation</td>\\n      <td>22 Apr, 2024</td>\\n      <td><a href=\"https://engage.pittsburghpa.gov/freedom-corner-renovation\" target=\"_blank\">https://engage.pittsburghpa.gov/freedom-corner-renovation</a></td>\\n    </tr>\\n    <tr>\\n      <th>113</th>\\n      <td>Frazier Street Steps</td>\\n      <td>06 Nov, 2023</td>\\n      <td><a href=\"https://engage.pittsburghpa.gov/frazier-street-steps\" target=\"_blank\">https://engage.pittsburghpa.gov/frazier-street-steps</a></td>\\n    </tr>\\n    <tr>\\n      <th>117</th>\\n      <td>Brownsville Road Corridor Safety Plan</td>\\n      <td>25 Sep, 2024</td>\\n      <td><a href=\"https://engage.pittsburghpa.gov/brownsville-road-corridor-safety-plan\" target=\"_blank\">https://engage.pittsburghpa.gov/brownsville-road-corridor-safety-plan</a></td>\\n    </tr>\\n    <tr>\\n      <th>133</th>\\n      <td>Complete Streets Advisory Group</td>\\n      <td>19 Sep, 2024</td>\\n      <td><a href=\"https://engage.pittsburghpa.gov/complete-streets-advisory-group\" target=\"_blank\">https://engage.pittsburghpa.gov/complete-streets-advisory-group</a></td>\\n    </tr>\\n    <tr>\\n      <th>136</th>\\n      <td>White House Workforce Talent Hub</td>\\n      <td>09 Oct, 2024</td>\\n      <td><a href=\"https://engage.pittsburghpa.gov/white-house-workforce-talent-hub\" target=\"_blank\">https://engage.pittsburghpa.gov/white-house-workforce-talent-hub</a></td>\\n    </tr>\\n    <tr>\\n      <th>137</th>\\n      <td>Pathways to Removing Obstacles to Housing</td>\\n      <td>04 Oct, 2024</td>\\n      <td><a href=\"https://engage.pittsburghpa.gov/pathways-removing-obstacles-housing\" target=\"_blank\">https://engage.pittsburghpa.gov/pathways-removing-obstacles-housing</a></td>\\n    </tr>\\n    <tr>\\n      <th>139</th>\\n      <td>Snow Angels</td>\\n      <td>02 Oct, 2024</td>\\n      <td><a href=\"https://engage.pittsburghpa.gov/snow-angels\" target=\"_blank\">https://engage.pittsburghpa.gov/snow-angels</a></td>\\n    </tr>\\n    <tr>\\n      <th>140</th>\\n      <td>City of Pittsburgh Public Art Collection</td>\\n      <td>02 May, 2024</td>\\n      <td><a href=\"https://engage.pittsburghpa.gov/public-art-collection\" target=\"_blank\">https://engage.pittsburghpa.gov/public-art-collection</a></td>\\n    </tr>\\n    <tr>\\n      <th>142</th>\\n      <td>Public Art Hub</td>\\n      <td>22 Apr, 2024</td>\\n      <td><a href=\"https://engage.pittsburghpa.gov/public-art-hub\" target=\"_blank\">https://engage.pittsburghpa.gov/public-art-hub</a></td>\\n    </tr>\\n    <tr>\\n      <th>145</th>\\n      <td>Implementing the Housing Needs Assessment</td>\\n      <td>10 Oct, 2024</td>\\n      <td><a href=\"https://engage.pittsburghpa.gov/implementing-housing-needs-assessment\" target=\"_blank\">https://engage.pittsburghpa.gov/implementing-housing-needs-assessment</a></td>\\n    </tr>\\n    <tr>\\n      <th>147</th>\\n      <td>PHAD Projects</td>\\n      <td>22 Apr, 2024</td>\\n      <td><a href=\"https://engage.pittsburghpa.gov/phad-projects\" target=\"_blank\">https://engage.pittsburghpa.gov/phad-projects</a></td>\\n    </tr>\\n    <tr>\\n      <th>150</th>\\n      <td>Eleanor Street Playground Improvements</td>\\n      <td>04 Sep, 2024</td>\\n      <td><a href=\"https://engage.pittsburghpa.gov/eleanor\" target=\"_blank\">https://engage.pittsburghpa.gov/eleanor</a></td>\\n    </tr>\\n    <tr>\\n      <th>166</th>\\n      <td>Revitalizing the Community Grove</td>\\n      <td>01 Oct, 2024</td>\\n      <td><a href=\"https://engage.pittsburghpa.gov/revitalizing-community-grove\" target=\"_blank\">https://engage.pittsburghpa.gov/revitalizing-community-grove</a></td>\\n    </tr>\\n    <tr>\\n      <th>178</th>\\n      <td>Homewood Community Plan</td>\\n      <td>15 Aug, 2024</td>\\n      <td><a href=\"https://engage.pittsburghpa.gov/homewood-community-plan\" target=\"_blank\">https://engage.pittsburghpa.gov/homewood-community-plan</a></td>\\n    </tr>\\n    <tr>\\n      <th>183</th>\\n      <td>Safe Routes to School</td>\\n      <td>08 Oct, 2024</td>\\n      <td><a href=\"https://engage.pittsburghpa.gov/srts\" target=\"_blank\">https://engage.pittsburghpa.gov/srts</a></td>\\n    </tr>\\n    <tr>\\n      <th>188</th>\\n      <td>Registered Community Organization (RCO) Recertification</td>\\n      <td>25 Sep, 2024</td>\\n      <td><a href=\"https://engage.pittsburghpa.gov/registered-community-organization-rco-recertification\" target=\"_blank\">https://engage.pittsburghpa.gov/registered-community-organization-rco-recertification</a></td>\\n    </tr>\\n  </tbody>\\n</table>'"
      ]
     },
     "execution_count": 3,
     "metadata": {},
     "output_type": "execute_result"
    }
   ],
   "source": [
    "table"
   ]
  },
  {
   "cell_type": "code",
   "execution_count": 2,
   "metadata": {},
   "outputs": [],
   "source": [
    "backend.send_email()"
   ]
  },
  {
   "cell_type": "code",
   "execution_count": null,
   "metadata": {},
   "outputs": [],
   "source": [
    "df = backend.get_current_dates()"
   ]
  },
  {
   "cell_type": "code",
   "execution_count": null,
   "metadata": {},
   "outputs": [],
   "source": [
    "df"
   ]
  },
  {
   "cell_type": "code",
   "execution_count": null,
   "metadata": {},
   "outputs": [],
   "source": [
    "for index, row in df.iterrows():\n",
    "    backend.insert_new_project(row['project_name'], row['date'], 'city', row['status'])"
   ]
  },
  {
   "cell_type": "code",
   "execution_count": 4,
   "metadata": {},
   "outputs": [],
   "source": [
    "projects_in_db = backend.get_projects_from_db()\n",
    "projects_on_pg = backend.get_current_dates()"
   ]
  },
  {
   "cell_type": "code",
   "execution_count": 5,
   "metadata": {},
   "outputs": [
    {
     "data": {
      "text/html": [
       "<div>\n",
       "<style scoped>\n",
       "    .dataframe tbody tr th:only-of-type {\n",
       "        vertical-align: middle;\n",
       "    }\n",
       "\n",
       "    .dataframe tbody tr th {\n",
       "        vertical-align: top;\n",
       "    }\n",
       "\n",
       "    .dataframe thead th {\n",
       "        text-align: right;\n",
       "    }\n",
       "</style>\n",
       "<table border=\"1\" class=\"dataframe\">\n",
       "  <thead>\n",
       "    <tr style=\"text-align: right;\">\n",
       "      <th></th>\n",
       "      <th>id</th>\n",
       "      <th>project_name</th>\n",
       "      <th>date</th>\n",
       "      <th>org</th>\n",
       "      <th>status</th>\n",
       "    </tr>\n",
       "  </thead>\n",
       "  <tbody>\n",
       "    <tr>\n",
       "      <th>0</th>\n",
       "      <td>1</td>\n",
       "      <td>Updating and Adopting the Hill District Master...</td>\n",
       "      <td>01 Oct, 2024</td>\n",
       "      <td>city</td>\n",
       "      <td>temp</td>\n",
       "    </tr>\n",
       "    <tr>\n",
       "      <th>1</th>\n",
       "      <td>2</td>\n",
       "      <td>Fort Pitt Park Master Plan</td>\n",
       "      <td>26 Jul, 2022</td>\n",
       "      <td>city</td>\n",
       "      <td>temp</td>\n",
       "    </tr>\n",
       "    <tr>\n",
       "      <th>2</th>\n",
       "      <td>3</td>\n",
       "      <td>Westinghouse Park Plan</td>\n",
       "      <td>24 Sep, 2024</td>\n",
       "      <td>city</td>\n",
       "      <td>temp</td>\n",
       "    </tr>\n",
       "    <tr>\n",
       "      <th>3</th>\n",
       "      <td>4</td>\n",
       "      <td>Liberty Avenue HSIP</td>\n",
       "      <td>02 May, 2024</td>\n",
       "      <td>city</td>\n",
       "      <td>temp</td>\n",
       "    </tr>\n",
       "    <tr>\n",
       "      <th>4</th>\n",
       "      <td>5</td>\n",
       "      <td>City of the Future</td>\n",
       "      <td>18 Oct, 2023</td>\n",
       "      <td>city</td>\n",
       "      <td>temp</td>\n",
       "    </tr>\n",
       "    <tr>\n",
       "      <th>...</th>\n",
       "      <td>...</td>\n",
       "      <td>...</td>\n",
       "      <td>...</td>\n",
       "      <td>...</td>\n",
       "      <td>...</td>\n",
       "    </tr>\n",
       "    <tr>\n",
       "      <th>186</th>\n",
       "      <td>187</td>\n",
       "      <td>My Brother's Keeper</td>\n",
       "      <td>11 Sep, 2024</td>\n",
       "      <td>city</td>\n",
       "      <td>temp</td>\n",
       "    </tr>\n",
       "    <tr>\n",
       "      <th>187</th>\n",
       "      <td>188</td>\n",
       "      <td>¿Le interesaría participar como voluntario de ...</td>\n",
       "      <td>08 Mar, 2023</td>\n",
       "      <td>city</td>\n",
       "      <td>temp</td>\n",
       "    </tr>\n",
       "    <tr>\n",
       "      <th>188</th>\n",
       "      <td>189</td>\n",
       "      <td>Registered Community Organization (RCO) Recert...</td>\n",
       "      <td>25 Sep, 2024</td>\n",
       "      <td>city</td>\n",
       "      <td>temp</td>\n",
       "    </tr>\n",
       "    <tr>\n",
       "      <th>189</th>\n",
       "      <td>190</td>\n",
       "      <td>Michael Flynn / Spring Garden Park</td>\n",
       "      <td>30 Sep, 2024</td>\n",
       "      <td>city</td>\n",
       "      <td>temp</td>\n",
       "    </tr>\n",
       "    <tr>\n",
       "      <th>190</th>\n",
       "      <td>191</td>\n",
       "      <td>Residential Parking Permit Zones</td>\n",
       "      <td>02 Oct, 2024</td>\n",
       "      <td>city</td>\n",
       "      <td>temp</td>\n",
       "    </tr>\n",
       "  </tbody>\n",
       "</table>\n",
       "<p>191 rows × 5 columns</p>\n",
       "</div>"
      ],
      "text/plain": [
       "      id                                       project_name          date  \\\n",
       "0      1  Updating and Adopting the Hill District Master...  01 Oct, 2024   \n",
       "1      2                         Fort Pitt Park Master Plan  26 Jul, 2022   \n",
       "2      3                             Westinghouse Park Plan  24 Sep, 2024   \n",
       "3      4                                Liberty Avenue HSIP  02 May, 2024   \n",
       "4      5                                 City of the Future  18 Oct, 2023   \n",
       "..   ...                                                ...           ...   \n",
       "186  187                                My Brother's Keeper  11 Sep, 2024   \n",
       "187  188  ¿Le interesaría participar como voluntario de ...  08 Mar, 2023   \n",
       "188  189  Registered Community Organization (RCO) Recert...  25 Sep, 2024   \n",
       "189  190                 Michael Flynn / Spring Garden Park  30 Sep, 2024   \n",
       "190  191                   Residential Parking Permit Zones  02 Oct, 2024   \n",
       "\n",
       "      org status  \n",
       "0    city   temp  \n",
       "1    city   temp  \n",
       "2    city   temp  \n",
       "3    city   temp  \n",
       "4    city   temp  \n",
       "..    ...    ...  \n",
       "186  city   temp  \n",
       "187  city   temp  \n",
       "188  city   temp  \n",
       "189  city   temp  \n",
       "190  city   temp  \n",
       "\n",
       "[191 rows x 5 columns]"
      ]
     },
     "execution_count": 5,
     "metadata": {},
     "output_type": "execute_result"
    }
   ],
   "source": [
    "projects_in_db"
   ]
  },
  {
   "cell_type": "code",
   "execution_count": 6,
   "metadata": {},
   "outputs": [
    {
     "data": {
      "text/html": [
       "<div>\n",
       "<style scoped>\n",
       "    .dataframe tbody tr th:only-of-type {\n",
       "        vertical-align: middle;\n",
       "    }\n",
       "\n",
       "    .dataframe tbody tr th {\n",
       "        vertical-align: top;\n",
       "    }\n",
       "\n",
       "    .dataframe thead th {\n",
       "        text-align: right;\n",
       "    }\n",
       "</style>\n",
       "<table border=\"1\" class=\"dataframe\">\n",
       "  <thead>\n",
       "    <tr style=\"text-align: right;\">\n",
       "      <th></th>\n",
       "      <th>project_name</th>\n",
       "      <th>date</th>\n",
       "      <th>link</th>\n",
       "      <th>status</th>\n",
       "    </tr>\n",
       "  </thead>\n",
       "  <tbody>\n",
       "    <tr>\n",
       "      <th>0</th>\n",
       "      <td>Updating and Adopting the Hill District Master...</td>\n",
       "      <td>17 Oct, 2024</td>\n",
       "      <td>https://engage.pittsburghpa.gov/ghdmp</td>\n",
       "      <td>temp</td>\n",
       "    </tr>\n",
       "    <tr>\n",
       "      <th>1</th>\n",
       "      <td>Fort Pitt Park Master Plan</td>\n",
       "      <td>26 Jul, 2022</td>\n",
       "      <td>https://engage.pittsburghpa.gov/fort-pitt-park</td>\n",
       "      <td>temp</td>\n",
       "    </tr>\n",
       "    <tr>\n",
       "      <th>2</th>\n",
       "      <td>Westinghouse Park Plan</td>\n",
       "      <td>24 Sep, 2024</td>\n",
       "      <td>https://engage.pittsburghpa.gov/westinghouse-park</td>\n",
       "      <td>temp</td>\n",
       "    </tr>\n",
       "    <tr>\n",
       "      <th>3</th>\n",
       "      <td>Liberty Avenue HSIP</td>\n",
       "      <td>02 May, 2024</td>\n",
       "      <td>https://engage.pittsburghpa.gov/liberty-avenue...</td>\n",
       "      <td>temp</td>\n",
       "    </tr>\n",
       "    <tr>\n",
       "      <th>4</th>\n",
       "      <td>City of the Future</td>\n",
       "      <td>18 Oct, 2023</td>\n",
       "      <td>https://engage.pittsburghpa.gov/city-future</td>\n",
       "      <td>temp</td>\n",
       "    </tr>\n",
       "    <tr>\n",
       "      <th>...</th>\n",
       "      <td>...</td>\n",
       "      <td>...</td>\n",
       "      <td>...</td>\n",
       "      <td>...</td>\n",
       "    </tr>\n",
       "    <tr>\n",
       "      <th>189</th>\n",
       "      <td>Michael Flynn / Spring Garden Park</td>\n",
       "      <td>30 Sep, 2024</td>\n",
       "      <td>https://engage.pittsburghpa.gov/michael-flynn-...</td>\n",
       "      <td>temp</td>\n",
       "    </tr>\n",
       "    <tr>\n",
       "      <th>190</th>\n",
       "      <td>Residential Parking Permit Zones</td>\n",
       "      <td>02 Oct, 2024</td>\n",
       "      <td>https://engage.pittsburghpa.gov/residential-pa...</td>\n",
       "      <td>temp</td>\n",
       "    </tr>\n",
       "    <tr>\n",
       "      <th>191</th>\n",
       "      <td>Saw Mill Run Green Boulevard</td>\n",
       "      <td>22 Oct, 2024</td>\n",
       "      <td>https://engage.pittsburghpa.gov/saw-mill-run-g...</td>\n",
       "      <td>temp</td>\n",
       "    </tr>\n",
       "    <tr>\n",
       "      <th>192</th>\n",
       "      <td>Historic District Design Guidelines</td>\n",
       "      <td>25 Oct, 2024</td>\n",
       "      <td>https://engage.pittsburghpa.gov/historic-distr...</td>\n",
       "      <td>temp</td>\n",
       "    </tr>\n",
       "    <tr>\n",
       "      <th>193</th>\n",
       "      <td>Disability Rights &amp; the ADA</td>\n",
       "      <td>28 Oct, 2024</td>\n",
       "      <td>https://engage.pittsburghpa.gov/disability-rig...</td>\n",
       "      <td>temp</td>\n",
       "    </tr>\n",
       "  </tbody>\n",
       "</table>\n",
       "<p>194 rows × 4 columns</p>\n",
       "</div>"
      ],
      "text/plain": [
       "                                          project_name          date  \\\n",
       "0    Updating and Adopting the Hill District Master...  17 Oct, 2024   \n",
       "1                           Fort Pitt Park Master Plan  26 Jul, 2022   \n",
       "2                               Westinghouse Park Plan  24 Sep, 2024   \n",
       "3                                  Liberty Avenue HSIP  02 May, 2024   \n",
       "4                                   City of the Future  18 Oct, 2023   \n",
       "..                                                 ...           ...   \n",
       "189                 Michael Flynn / Spring Garden Park  30 Sep, 2024   \n",
       "190                   Residential Parking Permit Zones  02 Oct, 2024   \n",
       "191                       Saw Mill Run Green Boulevard  22 Oct, 2024   \n",
       "192                Historic District Design Guidelines  25 Oct, 2024   \n",
       "193                        Disability Rights & the ADA  28 Oct, 2024   \n",
       "\n",
       "                                                  link status  \n",
       "0                https://engage.pittsburghpa.gov/ghdmp   temp  \n",
       "1       https://engage.pittsburghpa.gov/fort-pitt-park   temp  \n",
       "2    https://engage.pittsburghpa.gov/westinghouse-park   temp  \n",
       "3    https://engage.pittsburghpa.gov/liberty-avenue...   temp  \n",
       "4          https://engage.pittsburghpa.gov/city-future   temp  \n",
       "..                                                 ...    ...  \n",
       "189  https://engage.pittsburghpa.gov/michael-flynn-...   temp  \n",
       "190  https://engage.pittsburghpa.gov/residential-pa...   temp  \n",
       "191  https://engage.pittsburghpa.gov/saw-mill-run-g...   temp  \n",
       "192  https://engage.pittsburghpa.gov/historic-distr...   temp  \n",
       "193  https://engage.pittsburghpa.gov/disability-rig...   temp  \n",
       "\n",
       "[194 rows x 4 columns]"
      ]
     },
     "execution_count": 6,
     "metadata": {},
     "output_type": "execute_result"
    }
   ],
   "source": [
    "projects_on_pg"
   ]
  },
  {
   "cell_type": "code",
   "execution_count": null,
   "metadata": {},
   "outputs": [],
   "source": [
    "temp = pd.merge(projects_on_pg, projects_in_db, on='project_name', suffixes=('_pg', '_db'))"
   ]
  },
  {
   "cell_type": "code",
   "execution_count": null,
   "metadata": {},
   "outputs": [],
   "source": [
    "temp[temp['date_db'] != temp['date_pg']][['project_name', 'date_pg']]"
   ]
  },
  {
   "cell_type": "code",
   "execution_count": null,
   "metadata": {},
   "outputs": [],
   "source": [
    "#### new projects\n",
    "existing = projects_in_db['project_name'].tolist()\n",
    "latest = projects_on_pg['project_name'].tolist()"
   ]
  },
  {
   "cell_type": "code",
   "execution_count": null,
   "metadata": {},
   "outputs": [],
   "source": [
    "removed_projects = set(existing).difference(latest)"
   ]
  },
  {
   "cell_type": "code",
   "execution_count": null,
   "metadata": {},
   "outputs": [],
   "source": [
    "new_projects = set(latest).difference(existing)"
   ]
  },
  {
   "cell_type": "code",
   "execution_count": null,
   "metadata": {},
   "outputs": [],
   "source": []
  },
  {
   "cell_type": "code",
   "execution_count": null,
   "metadata": {},
   "outputs": [],
   "source": [
    "for index, row in df.iterrows():\n",
    "    backend.insert_new_project(row['project_name'], row['date'], 'city', row['status'])"
   ]
  },
  {
   "cell_type": "code",
   "execution_count": null,
   "metadata": {},
   "outputs": [],
   "source": [
    "backend.purge_db()"
   ]
  },
  {
   "cell_type": "code",
   "execution_count": null,
   "metadata": {},
   "outputs": [],
   "source": []
  }
 ],
 "metadata": {
  "kernelspec": {
   "display_name": ".venv",
   "language": "python",
   "name": "python3"
  },
  "language_info": {
   "codemirror_mode": {
    "name": "ipython",
    "version": 3
   },
   "file_extension": ".py",
   "mimetype": "text/x-python",
   "name": "python",
   "nbconvert_exporter": "python",
   "pygments_lexer": "ipython3",
   "version": "3.11.0"
  }
 },
 "nbformat": 4,
 "nbformat_minor": 2
}
